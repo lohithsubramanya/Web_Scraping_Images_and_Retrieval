{
 "cells": [
  {
   "cell_type": "code",
   "execution_count": 1,
   "metadata": {
    "collapsed": true
   },
   "outputs": [],
   "source": [
    "import requests"
   ]
  },
  {
   "cell_type": "code",
   "execution_count": 2,
   "metadata": {
    "collapsed": true
   },
   "outputs": [],
   "source": [
    "data = requests.get('http://www.mospi.nic.in/')"
   ]
  },
  {
   "cell_type": "code",
   "execution_count": 3,
   "metadata": {
    "collapsed": true
   },
   "outputs": [],
   "source": [
    "from bs4 import BeautifulSoup"
   ]
  },
  {
   "cell_type": "code",
   "execution_count": 5,
   "metadata": {
    "collapsed": false
   },
   "outputs": [],
   "source": [
    "soup = BeautifulSoup(data.text, 'lxml') \n",
    "\n",
    "## Reading the raw data from html/xml format is a cumbersome process, with Beautiful Soup it becomes simple."
   ]
  },
  {
   "cell_type": "code",
   "execution_count": 6,
   "metadata": {
    "collapsed": false
   },
   "outputs": [
    {
     "data": {
      "text/plain": [
       "[<img alt=\"Home\" height=\"96\" src=\"http://www.mospi.nic.in/sites/default/files/logo.png\" title=\"Ministry of Statistics and Programme Implementation, Government of India\" width=\"447\"/>,\n",
       " <img alt=\"PM Banner\" height=\"345\" src=\"http://www.mospi.nic.in/sites/default/files/slider/mannkibaat.jpg\" title=\"PM Banner\" width=\"549\"/>,\n",
       " <img alt=\"Grapth1\" height=\"345\" src=\"http://www.mospi.nic.in/sites/default/files/slider/slide1.png\" title=\"Grapth1\" width=\"549\"/>,\n",
       " <img alt=\"Graph2\" height=\"345\" src=\"http://www.mospi.nic.in/sites/default/files/slider/banner2.png\" title=\"Graph2\" width=\"549\"/>,\n",
       " <img alt=\"Graph3\" height=\"345\" src=\"http://www.mospi.nic.in/sites/default/files/slider/banner3.png\" title=\"Graph3\" width=\"549\"/>,\n",
       " <img alt=\"Grapth4\" height=\"345\" src=\"http://www.mospi.nic.in/sites/default/files/slider/banner4.png\" title=\"Grapth4\" width=\"549\"/>,\n",
       " <img alt=\"Grapth6\" height=\"345\" src=\"http://www.mospi.nic.in/sites/default/files/slider/banner6.png\" title=\"Grapth6\" width=\"549\"/>,\n",
       " <img alt=\"Grapth5\" height=\"345\" src=\"http://www.mospi.nic.in/sites/default/files/slider/banner5.png\" title=\"Grapth5\" width=\"549\"/>,\n",
       " <img alt=\"PDF icon\" class=\"pdf\" height=\"20\" src=\"/sites/all/themes/mospi/images/icons/application-pdf.png\" title=\"PDF icon\" width=\"20\"/>,\n",
       " <img alt=\"PDF icon\" class=\"pdf\" height=\"20\" src=\"/sites/all/themes/mospi/images/icons/application-pdf.png\" title=\"PDF icon\" width=\"20\"/>,\n",
       " <img alt=\"PDF icon\" class=\"pdf\" height=\"20\" src=\"/sites/all/themes/mospi/images/icons/application-pdf.png\" title=\"PDF icon\" width=\"20\"/>,\n",
       " <img alt=\"PDF icon\" class=\"pdf\" height=\"20\" src=\"/sites/all/themes/mospi/images/icons/application-pdf.png\" title=\"PDF icon\" width=\"20\"/>,\n",
       " <img alt=\"PDF icon\" class=\"pdf\" height=\"20\" src=\"/sites/all/themes/mospi/images/icons/application-pdf.png\" title=\"PDF icon\" width=\"20\"/>,\n",
       " <img alt=\"PDF icon\" class=\"pdf\" height=\"20\" src=\"/sites/all/themes/mospi/images/icons/application-pdf.png\" title=\"PDF icon\" width=\"20\"/>,\n",
       " <img alt=\"PDF icon\" class=\"pdf\" height=\"20\" src=\"/sites/all/themes/mospi/images/icons/application-pdf.png\" title=\"PDF icon\" width=\"20\"/>,\n",
       " <img alt=\"PDF icon\" class=\"pdf\" height=\"20\" src=\"/sites/all/themes/mospi/images/icons/application-pdf.png\" title=\"PDF icon\" width=\"20\"/>,\n",
       " <img alt=\"PDF icon\" class=\"pdf\" height=\"20\" src=\"/sites/all/themes/mospi/images/icons/application-pdf.png\" title=\"PDF icon\" width=\"20\"/>,\n",
       " <img alt=\"PDF icon\" class=\"pdf\" height=\"20\" src=\"/sites/all/themes/mospi/images/icons/application-pdf.png\" title=\"PDF icon\" width=\"20\"/>,\n",
       " <img alt=\"PDF icon\" class=\"pdf\" height=\"20\" src=\"/sites/all/themes/mospi/images/icons/application-pdf.png\" title=\"PDF icon\" width=\"20\"/>,\n",
       " <img alt=\"PDF icon\" class=\"pdf\" height=\"20\" src=\"/sites/all/themes/mospi/images/icons/application-pdf.png\" title=\"PDF icon\" width=\"20\"/>,\n",
       " <img alt=\"Shri D.V. Sadananda Gowda\" src=\"sites/all/themes/mospi/images/sadanad-gowda.jpg\" title=\"Shri D.V. Sadananda Gowda\"/>,\n",
       " <img alt=\"External website that opens in a new window\" src=\"sites/all/themes/mospi/images/links-icon.png\" title=\"External website that opens in a new window\"/>,\n",
       " <img alt=\"External website that opens in a new window\" src=\"sites/all/themes/mospi/images/links-icon.png\" title=\"External website that opens in a new window\"/>,\n",
       " <img alt=\"External website that opens in a new window\" src=\"sites/all/themes/mospi/images/links-icon.png\" title=\"External website that opens in a new window\"/>,\n",
       " <img alt=\"Election Commission of India\" height=\"92\" src=\"http://www.mospi.nic.in/sites/default/files/bottom_slider/nvsp-logo.jpg\" title=\"http://www.nvsp.in/:External website that opens in a new window\" width=\"176\"/>,\n",
       " <img alt=\"External website that opens in a new window\" class=\"extIco\" height=\"92\" src=\"http://www.mospi.nic.in/sites/all/themes/mospi/images/links-icon.png\" title=\"External website that opens in a new window\" width=\"176\"/>,\n",
       " <img alt=\"Data.gov.in\" height=\"92\" src=\"http://www.mospi.nic.in/sites/default/files/bottom_slider/data-gov-in.jpg\" title=\"https://data.gov.in/:External website that opens in a new window\" width=\"176\"/>,\n",
       " <img alt=\"External website that opens in a new window\" class=\"extIco\" height=\"92\" src=\"http://www.mospi.nic.in/sites/all/themes/mospi/images/links-icon.png\" title=\"External website that opens in a new window\" width=\"176\"/>,\n",
       " <img alt=\"Public Grievances\" height=\"92\" src=\"http://www.mospi.nic.in/sites/default/files/bottom_slider/public_0.jpg\" title=\"http://pgportal.gov.in/:External website that opens in a new window\" width=\"176\"/>,\n",
       " <img alt=\"External website that opens in a new window\" class=\"extIco\" height=\"92\" src=\"http://www.mospi.nic.in/sites/all/themes/mospi/images/links-icon.png\" title=\"External website that opens in a new window\" width=\"176\"/>,\n",
       " <img alt=\"Tender Notices\" height=\"92\" src=\"http://www.mospi.nic.in/sites/default/files/bottom_slider/tender-notices_1.jpg\" title=\"Tender Notices\" width=\"176\"/>,\n",
       " <img alt=\"\" height=\"92\" src=\"http://www.mospi.nic.in/sites/default/files/bottom_slider/DSC_0145.jpg\" title=\"Photo Gallery\" width=\"176\"/>,\n",
       " <img alt=\"Current Surveys\" height=\"92\" src=\"http://www.mospi.nic.in/sites/default/files/bottom_slider/current-surveys.jpg\" title=\"Current Surveys\" width=\"176\"/>,\n",
       " <img alt=\"Devinfo\" height=\"92\" src=\"http://www.mospi.nic.in/sites/default/files/bottom_slider/devinfo.jpg\" title=\"http://www.devinfo.org/:External website that opens in a new window\" width=\"176\"/>,\n",
       " <img alt=\"External website that opens in a new window\" class=\"extIco\" height=\"92\" src=\"http://www.mospi.nic.in/sites/all/themes/mospi/images/links-icon.png\" title=\"External website that opens in a new window\" width=\"176\"/>,\n",
       " <img alt=\"drupal statistics module\" src=\"http://c.statcounter.com/11144616/0/6073e3e4/0/\" style=\"border:none;\"/>,\n",
       " <img alt=\"facebook.com\" class=\"fbIconnew\" src=\"http://www.mospi.nic.in/sites/default/files/facebook.png\" style=\"height:50px;width:50px\" title=\"http://facebook.com, External website that opens in a new window\"/>,\n",
       " <img alt=\"india.gov.in\" height=\"44\" src=\"http://www.mospi.nic.in/sites/all/themes/mospi/images/footer-gov-ind-log.jpg\" width=\"136\"/>,\n",
       " <img alt=\"mygov.in\" height=\"58\" src=\"http://www.mospi.nic.in/sites/all/themes/mospi/images/footer-gov-logo.png\" width=\"103\"/>]"
      ]
     },
     "execution_count": 6,
     "metadata": {},
     "output_type": "execute_result"
    }
   ],
   "source": [
    "soup.find_all('img')\n",
    "\n",
    "## Finds all the images"
   ]
  },
  {
   "cell_type": "code",
   "execution_count": 7,
   "metadata": {
    "collapsed": true
   },
   "outputs": [],
   "source": [
    "import urllib.request"
   ]
  },
  {
   "cell_type": "code",
   "execution_count": 8,
   "metadata": {
    "collapsed": false
   },
   "outputs": [
    {
     "name": "stdout",
     "output_type": "stream",
     "text": [
      "http://www.mospi.nic.in/sites/default/files/logo.png\n",
      "http://www.mospi.nic.in/sites/default/files/slider/mannkibaat.jpg\n",
      "http://www.mospi.nic.in/sites/default/files/slider/slide1.png\n",
      "http://www.mospi.nic.in/sites/default/files/slider/banner2.png\n",
      "http://www.mospi.nic.in/sites/default/files/slider/banner3.png\n",
      "http://www.mospi.nic.in/sites/default/files/slider/banner4.png\n",
      "http://www.mospi.nic.in/sites/default/files/slider/banner6.png\n",
      "http://www.mospi.nic.in/sites/default/files/slider/banner5.png\n",
      "http://www.mospi.nic.in/sites/default/files/bottom_slider/nvsp-logo.jpg\n",
      "http://www.mospi.nic.in/sites/all/themes/mospi/images/links-icon.png\n",
      "http://www.mospi.nic.in/sites/default/files/bottom_slider/data-gov-in.jpg\n",
      "http://www.mospi.nic.in/sites/all/themes/mospi/images/links-icon.png\n",
      "http://www.mospi.nic.in/sites/default/files/bottom_slider/public_0.jpg\n",
      "http://www.mospi.nic.in/sites/all/themes/mospi/images/links-icon.png\n",
      "http://www.mospi.nic.in/sites/default/files/bottom_slider/tender-notices_1.jpg\n",
      "http://www.mospi.nic.in/sites/default/files/bottom_slider/DSC_0145.jpg\n",
      "http://www.mospi.nic.in/sites/default/files/bottom_slider/current-surveys.jpg\n",
      "http://www.mospi.nic.in/sites/default/files/bottom_slider/devinfo.jpg\n",
      "http://www.mospi.nic.in/sites/all/themes/mospi/images/links-icon.png\n",
      "http://c.statcounter.com/11144616/0/6073e3e4/0/\n",
      "http://www.mospi.nic.in/sites/default/files/facebook.png\n",
      "http://www.mospi.nic.in/sites/all/themes/mospi/images/footer-gov-ind-log.jpg\n",
      "http://www.mospi.nic.in/sites/all/themes/mospi/images/footer-gov-logo.png\n"
     ]
    }
   ],
   "source": [
    "## To get the scraped images as URL Links\n",
    "\n",
    "for link in soup.find_all('img',src=True):\n",
    "    if link['src'].startswith('http'):\n",
    "        print(link['src'])"
   ]
  },
  {
   "cell_type": "code",
   "execution_count": 14,
   "metadata": {
    "collapsed": false
   },
   "outputs": [],
   "source": [
    "for link in soup.find_all('img',src=True):\n",
    "    if link['src'].startswith('http'):\n",
    "        file = link['src'].rsplit('/')  ## Splits the link in reverse order keeping '/' as the criteria\n",
    "        urllib.request.urlretrieve(link['src'],file[-1])  ### Retrieves the images and saves it in the local file system"
   ]
  },
  {
   "cell_type": "code",
   "execution_count": null,
   "metadata": {
    "collapsed": true
   },
   "outputs": [],
   "source": []
  }
 ],
 "metadata": {
  "kernelspec": {
   "display_name": "Python 3",
   "language": "python",
   "name": "python3"
  },
  "language_info": {
   "codemirror_mode": {
    "name": "ipython",
    "version": 3
   },
   "file_extension": ".py",
   "mimetype": "text/x-python",
   "name": "python",
   "nbconvert_exporter": "python",
   "pygments_lexer": "ipython3",
   "version": "3.6.0"
  }
 },
 "nbformat": 4,
 "nbformat_minor": 2
}
